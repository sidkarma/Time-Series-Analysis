{
 "cells": [
  {
   "cell_type": "code",
   "execution_count": 1,
   "id": "b5b6df59",
   "metadata": {},
   "outputs": [
    {
     "name": "stdout",
     "output_type": "stream",
     "text": [
      "KPSS statistic: 1.65\n",
      "p-value: 0.01\n",
      "Critical values: {'10%': 0.347, '5%': 0.463, '2.5%': 0.574, '1%': 0.739}\n",
      "The time series is non-stationary.\n"
     ]
    },
    {
     "name": "stderr",
     "output_type": "stream",
     "text": [
      "C:\\Users\\SV\\anaconda3\\lib\\site-packages\\statsmodels\\tsa\\stattools.py:2018: InterpolationWarning: The test statistic is outside of the range of p-values available in the\n",
      "look-up table. The actual p-value is smaller than the p-value returned.\n",
      "\n",
      "  warnings.warn(\n"
     ]
    }
   ],
   "source": [
    "import pandas as pd\n",
    "from statsmodels.tsa.stattools import kpss\n",
    "\n",
    "# Load the Air-passengers dataset\n",
    "data1 = pd.read_csv('AirPassengers.csv', index_col='Month', parse_dates=True)\n",
    "\n",
    "# Perform the KPSS test\n",
    "kpss_stat, p_value, lags, critical_values = kpss(data1['#Passengers'])\n",
    "\n",
    "# Print the results\n",
    "print(f'KPSS statistic: {kpss_stat:.2f}')\n",
    "print(f'p-value: {p_value:.2f}')\n",
    "print(f'Critical values: {critical_values}')\n",
    "\n",
    "if p_value < 0.05:\n",
    "    print('The time series is non-stationary.')\n",
    "else:\n",
    "    print('The time series is stationary.')"
   ]
  },
  {
   "cell_type": "code",
   "execution_count": 3,
   "id": "772053a8",
   "metadata": {},
   "outputs": [
    {
     "name": "stdout",
     "output_type": "stream",
     "text": [
      "The time series is stationary.\n"
     ]
    }
   ],
   "source": [
    "seasonal_diff = data1.diff(12).dropna()\n",
    "\n",
    "# Check stationarity using the Augmented Dickey-Fuller (ADF) test\n",
    "from statsmodels.tsa.stattools import adfuller\n",
    "\n",
    "adf_stat, p_value, _, _, _, _ = adfuller(seasonal_diff['#Passengers'])\n",
    "\n",
    "if p_value < 0.05:\n",
    "    print('The time series is stationary.')\n",
    "else:\n",
    "    print('The time series is still non-stationary.')"
   ]
  },
  {
   "cell_type": "code",
   "execution_count": 4,
   "id": "b0976efc",
   "metadata": {},
   "outputs": [
    {
     "name": "stdout",
     "output_type": "stream",
     "text": [
      "The probability that the driver is innocent given that the witness identified the taxi as an Uber is 0.98\n"
     ]
    }
   ],
   "source": [
    "#  Q2:\n",
    "\n",
    "p_b_given_a = 0.99\n",
    "p_b_given_not_a = 0.02\n",
    "p_a = 0.5\n",
    "\n",
    "p_b = p_b_given_a * p_a + p_b_given_not_a * (1 - p_a)\n",
    "\n",
    "# Calculate P(A|B)\n",
    "p_a_given_b = p_b_given_a * p_a / p_b\n",
    "\n",
    "print(f\"The probability that the driver is innocent given that the witness identified the taxi as an Uber is {p_a_given_b:.2f}\")\n"
   ]
  },
  {
   "cell_type": "code",
   "execution_count": null,
   "id": "cfbbcf49",
   "metadata": {},
   "outputs": [],
   "source": []
  }
 ],
 "metadata": {
  "kernelspec": {
   "display_name": "Python 3 (ipykernel)",
   "language": "python",
   "name": "python3"
  },
  "language_info": {
   "codemirror_mode": {
    "name": "ipython",
    "version": 3
   },
   "file_extension": ".py",
   "mimetype": "text/x-python",
   "name": "python",
   "nbconvert_exporter": "python",
   "pygments_lexer": "ipython3",
   "version": "3.9.13"
  }
 },
 "nbformat": 4,
 "nbformat_minor": 5
}
